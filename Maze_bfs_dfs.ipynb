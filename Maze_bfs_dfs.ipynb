{
  "nbformat": 4,
  "nbformat_minor": 0,
  "metadata": {
    "colab": {
      "provenance": [],
      "include_colab_link": true
    },
    "kernelspec": {
      "name": "python3",
      "display_name": "Python 3"
    },
    "language_info": {
      "name": "python"
    }
  },
  "cells": [
    {
      "cell_type": "markdown",
      "metadata": {
        "id": "view-in-github",
        "colab_type": "text"
      },
      "source": [
        "<a href=\"https://colab.research.google.com/github/pradipNP/Maze_Solver_BFS_DFS/blob/main/Maze_bfs_dfs.ipynb\" target=\"_parent\"><img src=\"https://colab.research.google.com/assets/colab-badge.svg\" alt=\"Open In Colab\"/></a>"
      ]
    },
    {
      "cell_type": "code",
      "execution_count": null,
      "metadata": {
        "colab": {
          "base_uri": "https://localhost:8080/"
        },
        "id": "c0K7VUmemj0s",
        "outputId": "07389e91-c737-4173-d9c4-187836a3a647"
      },
      "outputs": [
        {
          "output_type": "stream",
          "name": "stdout",
          "text": [
            "BFS Path: [(0, 0), (1, 0), (1, 1), (1, 2), (2, 2), (3, 2), (3, 3), (4, 3), (4, 4)]\n",
            "BFS Nodes Explored: 18\n",
            "DFS Path: [(0, 0), (1, 0), (1, 1), (1, 2), (2, 2), (3, 2), (3, 3), (3, 4), (4, 4)]\n",
            "DFS Nodes Explored: 9\n"
          ]
        }
      ],
      "source": [
        "def bfs_maze_solver(maze, start, end):\n",
        "    rows, cols = len(maze), len(maze[0])\n",
        "    queue = [(start, [start])]  # Queue stores (current cell, path to it)\n",
        "    visited = set()  # Track visited cells\n",
        "    visited.add(start)\n",
        "    nodes_explored = 0\n",
        "\n",
        "    while queue:\n",
        "        current, path = queue.pop(0)  # Dequeue the first element\n",
        "        nodes_explored += 1\n",
        "\n",
        "        if current == end:  # If we reach the end, return the path\n",
        "            return path, nodes_explored\n",
        "\n",
        "        # Explore neighbors (up, down, left, right)\n",
        "        for dx, dy in [(-1, 0), (1, 0), (0, -1), (0, 1)]:\n",
        "            next_row, next_col = current[0] + dx, current[1] + dy\n",
        "            next_cell = (next_row, next_col)\n",
        "\n",
        "            if 0 <= next_row < rows and 0 <= next_col < cols and maze[next_row][next_col] == 1 and next_cell not in visited:\n",
        "                visited.add(next_cell)\n",
        "                queue.append((next_cell, path + [next_cell]))\n",
        "\n",
        "    return None, nodes_explored  # No path found\n",
        "\n",
        "\n",
        "def dfs_maze_solver(maze, start, end):\n",
        "    rows, cols = len(maze), len(maze[0])\n",
        "    stack = [(start, [start])]  # Stack stores (current cell, path to it)\n",
        "    visited = set()  # Track visited cells\n",
        "    visited.add(start)\n",
        "    nodes_explored = 0\n",
        "\n",
        "    while stack:\n",
        "        current, path = stack.pop()  # Pop the last element\n",
        "        nodes_explored += 1\n",
        "\n",
        "        if current == end:  # If we reach the end, return the path\n",
        "            return path, nodes_explored\n",
        "\n",
        "        # Explore neighbors (up, down, left, right)\n",
        "        for dx, dy in [(-1, 0), (1, 0), (0, -1), (0, 1)]:\n",
        "            next_row, next_col = current[0] + dx, current[1] + dy\n",
        "            next_cell = (next_row, next_col)\n",
        "\n",
        "            if 0 <= next_row < rows and 0 <= next_col < cols and maze[next_row][next_col] == 1 and next_cell not in visited:\n",
        "                visited.add(next_cell)\n",
        "                stack.append((next_cell, path + [next_cell]))\n",
        "\n",
        "    return None, nodes_explored  # No path found\n",
        "\n",
        "\n",
        "# Example Maze (1 = walkable, 0 = wall)\n",
        "maze = [\n",
        "    [1, 0, 1, 1, 1],\n",
        "    [1, 1, 1, 0, 1],\n",
        "    [0, 0, 1, 0, 1],\n",
        "    [1, 1, 1, 1, 1],\n",
        "    [1, 0, 0, 1, 1]\n",
        "]\n",
        "\n",
        "start = (0, 0)  # Starting position\n",
        "end = (4, 4)    # Goal position\n",
        "\n",
        "# BFS\n",
        "bfs_path, bfs_explored = bfs_maze_solver(maze, start, end)\n",
        "print(\"BFS Path:\", bfs_path)\n",
        "print(\"BFS Nodes Explored:\", bfs_explored)\n",
        "\n",
        "# DFS\n",
        "dfs_path, dfs_explored = dfs_maze_solver(maze, start, end)\n",
        "print(\"DFS Path:\", dfs_path)\n",
        "print(\"DFS Nodes Explored:\", dfs_explored)\n"
      ]
    },
    {
      "cell_type": "code",
      "source": [],
      "metadata": {
        "id": "_P8ucFYSjtiJ"
      },
      "execution_count": null,
      "outputs": []
    },
    {
      "cell_type": "code",
      "source": [],
      "metadata": {
        "id": "HcNxoCPrjvV9"
      },
      "execution_count": null,
      "outputs": []
    }
  ]
}